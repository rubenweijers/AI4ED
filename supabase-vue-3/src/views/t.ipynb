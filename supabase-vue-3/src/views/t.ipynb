{
 "cells": [
  {
   "cell_type": "code",
   "execution_count": 1,
   "metadata": {},
   "outputs": [
    {
     "name": "stdout",
     "output_type": "stream",
     "text": [
      "[2, 4, 6, 10, 17, 23, 24, 32, 34, 38, 40, 43, 45, 48, 58, 64, 71, 72, 74, 79]\n",
      "[7, 13, 15, 16, 25, 28, 29, 31, 33, 36, 39, 41, 46, 52, 55, 60, 62, 66, 67, 76]\n",
      "[1, 3, 8, 12, 14, 18, 20, 22, 26, 30, 42, 47, 51, 57, 61, 63, 68, 75, 77, 78]\n",
      "[5, 9, 11, 19, 21, 27, 35, 37, 44, 49, 50, 53, 54, 56, 59, 65, 69, 70, 73, 80]\n"
     ]
    }
   ],
   "source": [
    "# format the numbers into a list of lists\n",
    "numbers = [\n",
    "    [2, 7, 1, 5],\n",
    "    [4, 13, 3, 9],\n",
    "    [6, 15, 8, 11],\n",
    "    [10, 16, 12, 19],\n",
    "    [17, 25, 14, 21],\n",
    "    [23, 28, 18, 27],\n",
    "    [24, 29, 20, 35],\n",
    "    [32, 31, 22, 37],\n",
    "    [34, 33, 26, 44],\n",
    "    [38, 36, 30, 49],\n",
    "    [40, 39, 42, 50],\n",
    "    [43, 41, 47, 53],\n",
    "    [45, 46, 51, 54],\n",
    "    [48, 52, 57, 56],\n",
    "    [58, 55, 61, 59],\n",
    "    [64, 60, 63, 65],\n",
    "    [71, 62, 68, 69],\n",
    "    [72, 66, 75, 70],\n",
    "    [74, 67, 77, 73],\n",
    "    [79, 76, 78, 80]\n",
    "]\n",
    "\n",
    "# Create 4 lists to store the numbers, one per each column\n",
    "col1 = []\n",
    "col2 = []\n",
    "col3 = []\n",
    "col4 = []\n",
    "\n",
    "# Loop through the numbers and append the numbers to the corresponding list\n",
    "for i in numbers:\n",
    "    col1.append(i[0])\n",
    "    col2.append(i[1])\n",
    "    col3.append(i[2])\n",
    "    col4.append(i[3])\n",
    "\n",
    "# Print the lists\n",
    "print(col1)\n",
    "print(col2)\n",
    "print(col3)\n",
    "print(col4)\n",
    "\n"
   ]
  },
  {
   "cell_type": "code",
   "execution_count": null,
   "metadata": {},
   "outputs": [],
   "source": []
  }
 ],
 "metadata": {
  "kernelspec": {
   "display_name": "Python 3",
   "language": "python",
   "name": "python3"
  },
  "language_info": {
   "codemirror_mode": {
    "name": "ipython",
    "version": 3
   },
   "file_extension": ".py",
   "mimetype": "text/x-python",
   "name": "python",
   "nbconvert_exporter": "python",
   "pygments_lexer": "ipython3",
   "version": "3.10.14"
  }
 },
 "nbformat": 4,
 "nbformat_minor": 2
}
